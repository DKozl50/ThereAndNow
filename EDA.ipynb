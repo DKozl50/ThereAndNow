{
 "cells": [
  {
   "cell_type": "code",
   "execution_count": 79,
   "metadata": {},
   "outputs": [],
   "source": [
    "import pandas as pd\n",
    "import numpy as np\n",
    "import os\n",
    "import matplotlib.pyplot as plt\n",
    "%matplotlib inline \n",
    "\n",
    "import sklearn\n",
    "import scipy.sparse\n",
    "\n",
    "import lightgbm as lgb\n",
    "from sklearn.linear_model import LinearRegression\n",
    "from sklearn.metrics import r2_score\n",
    "\n",
    "import seaborn as sns\n",
    "from tqdm import tqdm_notebook"
   ]
  },
  {
   "cell_type": "code",
   "execution_count": 3,
   "metadata": {},
   "outputs": [],
   "source": [
    "DATA_FOLDER = './readonly/'\n",
    "RESULTS_FOLDER = './results/'\n",
    "\n",
    "data = pd.read_excel(os.path.join(DATA_FOLDER, 'MFTRAVEL_HACKATHON.xlsx'), sheet_name=None)"
   ]
  },
  {
   "cell_type": "code",
   "execution_count": 61,
   "metadata": {},
   "outputs": [
    {
     "data": {
      "text/plain": [
       "odict_keys(['Data', 'CountryDict', 'FieldsDiscr'])"
      ]
     },
     "execution_count": 61,
     "metadata": {},
     "output_type": "execute_result"
    }
   ],
   "source": [
    "countries = data['CountryDict']['CNTRY_CODE'].values.astype('int32')\n",
    "data.keys()"
   ]
  },
  {
   "cell_type": "code",
   "execution_count": 62,
   "metadata": {
    "collapsed": true
   },
   "outputs": [
    {
     "data": {
      "text/plain": [
       "array([        895,           4,           8,          12,          16,\n",
       "                20,          24,         660,          10,          28,\n",
       "                32,          51,         533,          36,          40,\n",
       "                31,          44,          48,          50,          52,\n",
       "               112,          56,          84,         204,          60,\n",
       "                64,          68,         535,          70,          72,\n",
       "                74,          76,          92,          96,         100,\n",
       "               854,         108,         116,         120,         124,\n",
       "               132,         136,         140,         148,         152,\n",
       "               156,         170,         174,         178,         184,\n",
       "               188,         384,         191,         192,         531,\n",
       "               196,         203,         408,         626,         180,\n",
       "               208,          86,         262,         212,         214,\n",
       "               218,         818,         222,         226,         232,\n",
       "               233,         231,         238,         234,         242,\n",
       "               246,         250,         260,         254,         258,\n",
       "               266,         270,         268,         276,         288,\n",
       "               292,         300,         304,         308,         312,\n",
       "               316,         320,         831,         324,         624,\n",
       "               328,         332,         340,         344,         348,\n",
       "               352,         356,         360,         364,         368,\n",
       "               372,         833,         376,         380,         388,\n",
       "               392,         832,         400,         398,         404,\n",
       "               296,         410,         414,         417,         418,\n",
       "               428,         422,         426,         430,         434,\n",
       "               438,         440,         442,         446,         450,\n",
       "               454,         458,         462,         466,         470,\n",
       "               580,         584,         474,         478,         480,\n",
       "               484,         583,         498,         492,         496,\n",
       "               499,         500,         504,         508,         104,\n",
       "               516,         520,         524,         528,         540,\n",
       "               554,         558,         562,         566,         570,\n",
       "               574,         807,         578,         512,         896,\n",
       "               586,         585,         275,         591,         598,\n",
       "               600,         604,         608,         612,         616,\n",
       "               620,         630,         634,         638,         642,\n",
       "               643,         646,         652,         654,         659,\n",
       "               662,         666,         666,         670,         882,\n",
       "               674,         678,         682,         686,         688,\n",
       "               690,         694,         702,         534,         663,\n",
       "               703,         705,          90,         706,         710,\n",
       "               728,         724,         744,         144,         729,\n",
       "               740,         748,         752,         756,         760,\n",
       "               158,         762,         834,         764,         768,\n",
       "               772,         776,         780,         788,         792,\n",
       "               795,         796,         798, -2147483648,         800,\n",
       "               804,         784,         826,         850,         840,\n",
       "               858,         860,         548,         336,         862,\n",
       "               704,         876,         732,         887,         894,\n",
       "               716, -2147483648])"
      ]
     },
     "execution_count": 62,
     "metadata": {},
     "output_type": "execute_result"
    }
   ],
   "source": [
    "countries"
   ]
  },
  {
   "cell_type": "code",
   "execution_count": 113,
   "metadata": {},
   "outputs": [],
   "source": [
    "MaxFlightPrice = 100000\n",
    "MaxHotelPrice = 100000\n",
    "MaxHotelPrice = 100000\n",
    "MaxRandDays = 500\n",
    "MaxHotels = 500\n",
    "\n",
    "class Environment:\n",
    "    def gen_dataset(self):\n",
    "        k = dict()\n",
    "        hotels = ['Baba', 'Bubu', 'Kata']\n",
    "        hotel_ind = 0\n",
    "        start_date = pd.to_datetime('8/2/2020')\n",
    "\n",
    "        print('Generating country_to_hotels dataset...')\n",
    "        \n",
    "        for i in tqdm_notebook(countries):\n",
    "            country_to_hotels = {'name' : [], 'day_price': [], 'available_from' : [], 'available_to' : []}\n",
    "\n",
    "            for _ in range(MaxHotels):\n",
    "                country_to_hotels['name'].append('{}_{}'.format(hotels[hotel_ind % 3], hotel_ind))\n",
    "                country_to_hotels['day_price'].append(np.random.randint(MaxHotelPrice))\n",
    "\n",
    "                delta1 = np.random.randint(MaxRandDays)\n",
    "                delta2 = np.random.randint(MaxRandDays//2)\n",
    "                country_to_hotels['available_from'].append(start_date + pd.DateOffset(days = delta1))\n",
    "                country_to_hotels['available_to'].append(start_date + pd.DateOffset(days = delta1 + delta2))\n",
    "\n",
    "                hotel_ind+=1\n",
    "\n",
    "            k[i] = pd.DataFrame(data=country_to_hotels)\n",
    "            \n",
    "        self.country_to_hotels_ = k\n",
    "        \n",
    "    def __init__(self, country_to_hotels = None):\n",
    "        print('Generating time_to_planes dataset...')\n",
    "        \n",
    "        d = {'time' : [], 'price': [], 'from': [], 'to' : []}\n",
    "        start_date = pd.to_datetime('8/2/2020')\n",
    "        \n",
    "        for i in range(100000):\n",
    "            if i % 10 == 0: \n",
    "                start_date += pd.DateOffset(days = 1)\n",
    "                \n",
    "            d['time'].append(start_date)\n",
    "            d['price'].append(np.random.randint(MaxFlightPrice))\n",
    "            d['from'].append(countries[np.random.randint(countries.size)])\n",
    "            d['to'].append(countries[np.random.randint(countries.size)])\n",
    "\n",
    "        self.planes_timetable_ = pd.DataFrame(data=d).set_index('time')\n",
    "    \n",
    "        if (country_to_hotels == None):\n",
    "            self.gen_dataset()\n",
    "        else:\n",
    "            self.country_to_hotels_ = country_to_hotels\n",
    "        \n",
    "        \n",
    "        print('Done')\n",
    "        \n",
    "    def get_tickets(self, time1, time2):\n",
    "        return self.planes_timetable[time1 : time2]\n",
    "    \n",
    "    def get_hotels(self, country_id, time1, time2): #datetime!!!\n",
    "        return self.country_to_hotels_[country_id][\n",
    "            time1 < self.country_to_hotels_[country_id]['available_from'] and \n",
    "            time2 > self.country_to_hotels_[country_id]['available_from'] ] "
   ]
  },
  {
   "cell_type": "code",
   "execution_count": 114,
   "metadata": {},
   "outputs": [
    {
     "name": "stdout",
     "output_type": "stream",
     "text": [
      "Generating time_to_planes dataset...\n",
      "Generating country_to_hotels dataset...\n"
     ]
    },
    {
     "data": {
      "application/vnd.jupyter.widget-view+json": {
       "model_id": "35236d4845cf4377b9dd7a3abe539596",
       "version_major": 2,
       "version_minor": 0
      },
      "text/plain": [
       "HBox(children=(IntProgress(value=0, max=247), HTML(value='')))"
      ]
     },
     "metadata": {},
     "output_type": "display_data"
    },
    {
     "name": "stdout",
     "output_type": "stream",
     "text": [
      "\n",
      "Done\n"
     ]
    }
   ],
   "source": [
    "env = Environment()"
   ]
  },
  {
   "cell_type": "code",
   "execution_count": null,
   "metadata": {},
   "outputs": [],
   "source": [
    "save = env.country_to_hotels_"
   ]
  },
  {
   "cell_type": "code",
   "execution_count": 115,
   "metadata": {},
   "outputs": [
    {
     "ename": "ValueError",
     "evalue": "The truth value of a Series is ambiguous. Use a.empty, a.bool(), a.item(), a.any() or a.all().",
     "output_type": "error",
     "traceback": [
      "\u001b[1;31m---------------------------------------------------------------------------\u001b[0m",
      "\u001b[1;31mValueError\u001b[0m                                Traceback (most recent call last)",
      "\u001b[1;32m<ipython-input-115-23ee50b56a52>\u001b[0m in \u001b[0;36m<module>\u001b[1;34m\u001b[0m\n\u001b[0;32m      2\u001b[0m \u001b[0mtime2\u001b[0m \u001b[1;33m=\u001b[0m \u001b[0mpd\u001b[0m\u001b[1;33m.\u001b[0m\u001b[0mto_datetime\u001b[0m\u001b[1;33m(\u001b[0m\u001b[1;34m'27/2/2020'\u001b[0m\u001b[1;33m)\u001b[0m\u001b[1;33m\u001b[0m\u001b[1;33m\u001b[0m\u001b[0m\n\u001b[0;32m      3\u001b[0m \u001b[1;33m\u001b[0m\u001b[0m\n\u001b[1;32m----> 4\u001b[1;33m \u001b[0menv\u001b[0m\u001b[1;33m.\u001b[0m\u001b[0mget_hotels\u001b[0m\u001b[1;33m(\u001b[0m\u001b[1;36m4\u001b[0m\u001b[1;33m,\u001b[0m \u001b[0mtime1\u001b[0m\u001b[1;33m,\u001b[0m \u001b[0mtime2\u001b[0m\u001b[1;33m)\u001b[0m\u001b[1;33m\u001b[0m\u001b[1;33m\u001b[0m\u001b[0m\n\u001b[0m\u001b[0;32m      5\u001b[0m \u001b[0menv\u001b[0m\u001b[1;33m.\u001b[0m\u001b[0mget_tickets\u001b[0m\u001b[1;33m(\u001b[0m\u001b[0mtime1\u001b[0m\u001b[1;33m,\u001b[0m \u001b[0mtime2\u001b[0m\u001b[1;33m)\u001b[0m\u001b[1;33m\u001b[0m\u001b[1;33m\u001b[0m\u001b[0m\n",
      "\u001b[1;32m<ipython-input-113-9e5d4aa7ce46>\u001b[0m in \u001b[0;36mget_hotels\u001b[1;34m(self, country_id, time1, time2)\u001b[0m\n\u001b[0;32m     62\u001b[0m     \u001b[1;32mdef\u001b[0m \u001b[0mget_hotels\u001b[0m\u001b[1;33m(\u001b[0m\u001b[0mself\u001b[0m\u001b[1;33m,\u001b[0m \u001b[0mcountry_id\u001b[0m\u001b[1;33m,\u001b[0m \u001b[0mtime1\u001b[0m\u001b[1;33m,\u001b[0m \u001b[0mtime2\u001b[0m\u001b[1;33m)\u001b[0m\u001b[1;33m:\u001b[0m \u001b[1;31m#datetime!!!\u001b[0m\u001b[1;33m\u001b[0m\u001b[1;33m\u001b[0m\u001b[0m\n\u001b[0;32m     63\u001b[0m         return self.country_to_hotels_[country_id][\n\u001b[1;32m---> 64\u001b[1;33m             \u001b[0mtime1\u001b[0m \u001b[1;33m<\u001b[0m \u001b[0mself\u001b[0m\u001b[1;33m.\u001b[0m\u001b[0mcountry_to_hotels_\u001b[0m\u001b[1;33m[\u001b[0m\u001b[0mcountry_id\u001b[0m\u001b[1;33m]\u001b[0m\u001b[1;33m[\u001b[0m\u001b[1;34m'available_from'\u001b[0m\u001b[1;33m]\u001b[0m \u001b[1;32mand\u001b[0m\u001b[1;33m\u001b[0m\u001b[1;33m\u001b[0m\u001b[0m\n\u001b[0m\u001b[0;32m     65\u001b[0m             time2 > self.country_to_hotels_[country_id]['available_from'] ] \n",
      "\u001b[1;32mc:\\users\\shepe\\python\\lib\\site-packages\\pandas\\core\\generic.py\u001b[0m in \u001b[0;36m__nonzero__\u001b[1;34m(self)\u001b[0m\n\u001b[0;32m   1553\u001b[0m             \u001b[1;34m\"The truth value of a {0} is ambiguous. \"\u001b[0m\u001b[1;33m\u001b[0m\u001b[1;33m\u001b[0m\u001b[0m\n\u001b[0;32m   1554\u001b[0m             \"Use a.empty, a.bool(), a.item(), a.any() or a.all().\".format(\n\u001b[1;32m-> 1555\u001b[1;33m                 \u001b[0mself\u001b[0m\u001b[1;33m.\u001b[0m\u001b[0m__class__\u001b[0m\u001b[1;33m.\u001b[0m\u001b[0m__name__\u001b[0m\u001b[1;33m\u001b[0m\u001b[1;33m\u001b[0m\u001b[0m\n\u001b[0m\u001b[0;32m   1556\u001b[0m             )\n\u001b[0;32m   1557\u001b[0m         )\n",
      "\u001b[1;31mValueError\u001b[0m: The truth value of a Series is ambiguous. Use a.empty, a.bool(), a.item(), a.any() or a.all()."
     ]
    }
   ],
   "source": [
    "time1 = pd.to_datetime('20/2/2020')\n",
    "time2 = pd.to_datetime('27/2/2020')\n",
    "\n",
    "env.get_hotels(4, time1, time2)\n",
    "env.get_tickets(time1, time2)"
   ]
  },
  {
   "cell_type": "code",
   "execution_count": 101,
   "metadata": {},
   "outputs": [
    {
     "data": {
      "text/plain": [
       "array([        895,           4,           8,          12,          16,\n",
       "                20,          24,         660,          10,          28,\n",
       "                32,          51,         533,          36,          40,\n",
       "                31,          44,          48,          50,          52,\n",
       "               112,          56,          84,         204,          60,\n",
       "                64,          68,         535,          70,          72,\n",
       "                74,          76,          92,          96,         100,\n",
       "               854,         108,         116,         120,         124,\n",
       "               132,         136,         140,         148,         152,\n",
       "               156,         170,         174,         178,         184,\n",
       "               188,         384,         191,         192,         531,\n",
       "               196,         203,         408,         626,         180,\n",
       "               208,          86,         262,         212,         214,\n",
       "               218,         818,         222,         226,         232,\n",
       "               233,         231,         238,         234,         242,\n",
       "               246,         250,         260,         254,         258,\n",
       "               266,         270,         268,         276,         288,\n",
       "               292,         300,         304,         308,         312,\n",
       "               316,         320,         831,         324,         624,\n",
       "               328,         332,         340,         344,         348,\n",
       "               352,         356,         360,         364,         368,\n",
       "               372,         833,         376,         380,         388,\n",
       "               392,         832,         400,         398,         404,\n",
       "               296,         410,         414,         417,         418,\n",
       "               428,         422,         426,         430,         434,\n",
       "               438,         440,         442,         446,         450,\n",
       "               454,         458,         462,         466,         470,\n",
       "               580,         584,         474,         478,         480,\n",
       "               484,         583,         498,         492,         496,\n",
       "               499,         500,         504,         508,         104,\n",
       "               516,         520,         524,         528,         540,\n",
       "               554,         558,         562,         566,         570,\n",
       "               574,         807,         578,         512,         896,\n",
       "               586,         585,         275,         591,         598,\n",
       "               600,         604,         608,         612,         616,\n",
       "               620,         630,         634,         638,         642,\n",
       "               643,         646,         652,         654,         659,\n",
       "               662,         666,         666,         670,         882,\n",
       "               674,         678,         682,         686,         688,\n",
       "               690,         694,         702,         534,         663,\n",
       "               703,         705,          90,         706,         710,\n",
       "               728,         724,         744,         144,         729,\n",
       "               740,         748,         752,         756,         760,\n",
       "               158,         762,         834,         764,         768,\n",
       "               772,         776,         780,         788,         792,\n",
       "               795,         796,         798, -2147483648,         800,\n",
       "               804,         784,         826,         850,         840,\n",
       "               858,         860,         548,         336,         862,\n",
       "               704,         876,         732,         887,         894,\n",
       "               716, -2147483648])"
      ]
     },
     "execution_count": 101,
     "metadata": {},
     "output_type": "execute_result"
    }
   ],
   "source": [
    "countries"
   ]
  }
 ],
 "metadata": {
  "kernelspec": {
   "display_name": "Python 3",
   "language": "python",
   "name": "python3"
  },
  "language_info": {
   "codemirror_mode": {
    "name": "ipython",
    "version": 3
   },
   "file_extension": ".py",
   "mimetype": "text/x-python",
   "name": "python",
   "nbconvert_exporter": "python",
   "pygments_lexer": "ipython3",
   "version": "3.7.4"
  }
 },
 "nbformat": 4,
 "nbformat_minor": 2
}
