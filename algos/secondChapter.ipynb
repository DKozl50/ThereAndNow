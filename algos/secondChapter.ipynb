{
 "cells": [
  {
   "cell_type": "code",
   "execution_count": 155,
   "metadata": {},
   "outputs": [],
   "source": [
    "import pandas as pd\n",
    "import math\n",
    "import numpy\n",
    "\n",
    "a = [0] * 1000\n",
    "a[40] = \"Netherlands\"\n",
    "a[616] = \"Poland\"\n",
    "a[36] = \"Austria\"\n",
    "a[276] = \"Germany\"\n",
    "a[56] = \"Belgium\"\n",
    "\n",
    "start_x = 52.5\n",
    "start_y = 13.4\n",
    "\n",
    "event_cnt = 10\n",
    "hour = pd.to_timedelta(\"0:1:0\")\n",
    "\n",
    "class item:\n",
    "    cnt = 0\n",
    "    rating = 0\n",
    "\n",
    "class node:\n",
    "    \n",
    "    def __init__(self, arrive, depart, cash, counry_id):\n",
    "        self.arrivial_time = arrive\n",
    "        self.departure_time = depart\n",
    "        self.cash = cash\n",
    "        self.country_id = country_id\n",
    "        \n",
    "def radian(x):\n",
    "    return (x * math.pi) / 180\n",
    "\n",
    "def distance_from_points(f1, f2, q1, q2):\n",
    "    f1 = radian(f1)\n",
    "    f2 = radian(f2)\n",
    "    q1 = radian(q1)\n",
    "    q2 = radian(q2)\n",
    "    temp1 = ((math.sin(f2 - f1) / 2)**2) + math.cos(f1) * math.cos(f2) * ((math.sin(q2 - q1) / 2)**2)\n",
    "    return 2 * 6371 * math.asin(temp1**0.5)\n",
    "\n",
    "def distance_from_areas(i1, i2):\n",
    "    f1 = table.loc[i1].x\n",
    "    f2 = table.loc[i2].x\n",
    "    q1 = table.loc[i1].y\n",
    "    q2 = table.loc[i2].y\n",
    "    return distance_from_points(f1, f2, q1, q2)\n",
    "\n",
    "def get_time_taxi(dist):\n",
    "    return dist / 40.0\n",
    "\n",
    "def get_time_fit(dist):\n",
    "    return dist / 7\n",
    "\n",
    "def taxi_count(dist):\n",
    "    return (15 * 70 * dist) / 5\n",
    "\n",
    "def id_to_sights(id):\n",
    "    res = a[id]\n",
    "    if (res == \"Netherlands\"):\n",
    "        t = pd.read_json('Netherlands')\n",
    "    if (res == \"Poland\"):\n",
    "        t = pd.read_json('Poland')\n",
    "    if (res == \"Belgium\"):\n",
    "        t = pd.read_json('Belgium')\n",
    "    if (res == \"Austria\"):\n",
    "        t = pd.read_json('Austria')\n",
    "    if (res == \"Germany\"):\n",
    "        t = pd.read_json('Germany')\n",
    "    t.time = pd.to_timedelta(t.time)\n",
    "    return t"
   ]
  },
  {
   "cell_type": "code",
   "execution_count": 156,
   "metadata": {},
   "outputs": [],
   "source": [
    "def get_random_ans(table, event_cnt):\n",
    "    cur_rating = 0\n",
    "    cur_cnt = 0\n",
    "    cur_cash = 0\n",
    "    cur_time = 0\n",
    "    ans = []\n",
    "    ids = list(range(event_cnt))\n",
    "    weights = list(table.rating)\n",
    "#     print(len(ids), len(weights))\n",
    "    weights = [x / sum(weights) for x in weights]\n",
    "    while(len(ids)):\n",
    "        temp = numpy.random.choice(range(len(ids)), 1, p=weights)[0]\n",
    "#         print(type(temp), temp)\n",
    "        ans.append(ids[temp])\n",
    "        ids.pop(temp)\n",
    "        weights.pop(temp)\n",
    "        weights = [x / sum(weights) for x in weights]\n",
    "    return ans"
   ]
  },
  {
   "cell_type": "code",
   "execution_count": 184,
   "metadata": {},
   "outputs": [],
   "source": [
    "def get_ans(table, event_cnt, max_cash):\n",
    "    cnt_1 = 0\n",
    "    cnt_2 = 0\n",
    "    hour = pd.to_timedelta(\"0:1:0\")\n",
    "    ans_rating = 0\n",
    "    ans_cnt = 0\n",
    "    ans_cash = 0\n",
    "    ans = []\n",
    "    ans_time = pd.to_timedelta(\"0:0:0\")\n",
    "    for _ in range(150):\n",
    "        cur_rating = 0\n",
    "        cur_cnt = 0\n",
    "        cur_cash = 0\n",
    "        cur_time = pd.to_timedelta(0)\n",
    "        new_ans = get_random_ans(table, event_cnt)\n",
    "        prev = -1\n",
    "        for j,i in enumerate(new_ans):\n",
    "            dist = 0\n",
    "            if prev == -1:\n",
    "                dist = distance_from_points(start_x, table.loc[i].x, start_y, table.loc[i].y)\n",
    "            else:\n",
    "                dist = distance_from_areas(prev, i)\n",
    "            cur_cnt += 1\n",
    "            cur_cash += table.loc[i].cost  \n",
    "            cur_time += table.loc[i].time\n",
    "            cur_rating += table.loc[i].rating\n",
    "            if dist <= 0.8:\n",
    "                needTime = get_time_fit(dist)\n",
    "                cur_time += needTime * hour\n",
    "            else:\n",
    "                needTime = get_time_taxi(dist)\n",
    "                cur_time += needTime * hour\n",
    "                cur_cash += taxi_count(dist)\n",
    "            if (cur_cash <= max_cash) and (cur_time < pd.to_timedelta(\"23:59:59\")):\n",
    "                if (cur_rating > ans_rating):\n",
    "                    ans = new_ans[:j + 1]\n",
    "                    ans_rating = cur_rating\n",
    "                    ans_cash = cur_cash\n",
    "                    ans_time = cur_time\n",
    "                    ans_cnt = cur_cnt\n",
    "            prev = i\n",
    "    print(cnt_1, cnt_2)\n",
    "    return (ans_rating, ans_cnt, ans_cash, ans_time, ans)\n",
    "            "
   ]
  },
  {
   "cell_type": "code",
   "execution_count": 185,
   "metadata": {},
   "outputs": [
    {
     "name": "stdout",
     "output_type": "stream",
     "text": [
      "                             name          x          y  cost     time  rating\n",
      "0                Brandenburg Gate  52.516278  13.375515     0 00:15:00      10\n",
      "1                       Reichstag  52.518620  13.376187     0 01:00:00      10\n",
      "2               East Side Gallery  52.505408  13.436360     0 00:15:00       6\n",
      "3                   Museum Island  52.516890  13.397764  1400 03:00:00       7\n",
      "4                Unter den Linden  52.516848  13.387012     0 00:20:00       5\n",
      "5  Kaiser Wilhelm Memorial Church  52.504821  13.332888   700 01:00:00       4\n",
      "6                   Postdam Platz  52.509652  13.373750     0 00:30:00       4\n",
      "7                      New Museum  52.520138  13.395452  1400 02:00:00       8\n",
      "8              Checkpoint Charlie  52.507591  13.388181     0 00:15:00       7\n",
      "9              Berlin Flea Market  52.513591  13.331188    -1 00:45:00       3\n",
      "\n",
      "0 0\n",
      "ans =  37 elem:  [2, 0, 1, 6, 8] cnt =  5\n"
     ]
    }
   ],
   "source": [
    "start_time = pd.to_datetime(\"08-02-2020\")\n",
    "end_time = pd.to_datetime(\"09-02-2020\")\n",
    "id = 276\n",
    "cash = 20000\n",
    "node = (start_time, end_time, 20000, 276)\n",
    "country = a[id]\n",
    "table = id_to_sights(id)\n",
    "#table1 = pd.concat([table, table], ignore_index=True)\n",
    "print(table)\n",
    "print()\n",
    "k = get_ans(table, event_cnt, 2000)\n",
    "print('ans = ', k[0] , 'elem: ', k[4], \"cnt = \", k[1])"
   ]
  },
  {
   "cell_type": "code",
   "execution_count": 141,
   "metadata": {},
   "outputs": [
    {
     "data": {
      "text/plain": [
       "45"
      ]
     },
     "execution_count": 141,
     "metadata": {},
     "output_type": "execute_result"
    }
   ],
   "source": [
    "sum(get_random_ans(table, 10))"
   ]
  },
  {
   "cell_type": "code",
   "execution_count": null,
   "metadata": {},
   "outputs": [],
   "source": []
  },
  {
   "cell_type": "code",
   "execution_count": null,
   "metadata": {},
   "outputs": [],
   "source": []
  }
 ],
 "metadata": {
  "kernelspec": {
   "display_name": "Python 3",
   "language": "python",
   "name": "python3"
  },
  "language_info": {
   "codemirror_mode": {
    "name": "ipython",
    "version": 3
   },
   "file_extension": ".py",
   "mimetype": "text/x-python",
   "name": "python",
   "nbconvert_exporter": "python",
   "pygments_lexer": "ipython3",
   "version": "3.7.3"
  }
 },
 "nbformat": 4,
 "nbformat_minor": 2
}
