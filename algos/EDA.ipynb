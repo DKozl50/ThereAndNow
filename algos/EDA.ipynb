{
 "cells": [
  {
   "cell_type": "code",
   "execution_count": 1,
   "metadata": {},
   "outputs": [],
   "source": [
    "import pandas as pd\n",
    "import numpy as np\n",
    "import os\n",
    "import matplotlib.pyplot as plt\n",
    "%matplotlib inline \n",
    "\n",
    "import sklearn\n",
    "import scipy.sparse\n",
    "\n",
    "import lightgbm as lgb\n",
    "from sklearn.linear_model import LinearRegression\n",
    "from sklearn.metrics import r2_score\n",
    "\n",
    "import seaborn as sns\n",
    "from tqdm import tqdm_notebook"
   ]
  },
  {
   "cell_type": "code",
   "execution_count": 3,
   "metadata": {},
   "outputs": [],
   "source": [
    "DATA_FOLDER = '~/Downloads/'\n",
    "RESULTS_FOLDER = './results/'\n",
    "\n",
    "data = pd.read_excel(os.path.join(DATA_FOLDER, 'MFTRAVEL_HACKATHON.xlsx'), sheet_name=None)"
   ]
  },
  {
   "cell_type": "code",
   "execution_count": 4,
   "metadata": {},
   "outputs": [
    {
     "data": {
      "text/plain": [
       "odict_keys(['Data', 'CountryDict', 'FieldsDiscr'])"
      ]
     },
     "execution_count": 4,
     "metadata": {},
     "output_type": "execute_result"
    }
   ],
   "source": [
    "countries = data['CountryDict']['CNTRY_CODE'].values.astype('int32')\n",
    "data.keys()"
   ]
  },
  {
   "cell_type": "code",
   "execution_count": 21,
   "metadata": {},
   "outputs": [
    {
     "name": "stdout",
     "output_type": "stream",
     "text": [
      "[895, 4, 8, 12, 16, 20, 24, 660, 10, 28, 32, 51, 533, 36, 40, 31, 44, 48, 50, 52, 112, 56, 84, 204, 60, 64, 68, 535, 70, 72, 74, 76, 92, 96, 100, 854, 108, 116, 120, 124, 132, 136, 140, 148, 152, 156, 170, 174, 178, 184, 188, 384, 191, 192, 531, 196, 203, 408, 626, 180, 208, 86, 262, 212, 214, 218, 818, 222, 226, 232, 233, 231, 238, 234, 242, 246, 250, 260, 254, 258, 266, 270, 268, 276, 288, 292, 300, 304, 308, 312, 316, 320, 831, 324, 624, 328, 332, 340, 344, 348, 352, 356, 360, 364, 368, 372, 833, 376, 380, 388, 392, 832, 400, 398, 404, 296, 410, 414, 417, 418, 428, 422, 426, 430, 434, 438, 440, 442, 446, 450, 454, 458, 462, 466, 470, 580, 584, 474, 478, 480, 484, 583, 498, 492, 496, 499, 500, 504, 508, 104, 516, 520, 524, 528, 540, 554, 558, 562, 566, 570, 574, 807, 578, 512, 896, 586, 585, 275, 591, 598, 600, 604, 608, 612, 616, 620, 630, 634, 638, 642, 643, 646, 652, 654, 659, 662, 666, 666, 670, 882, 674, 678, 682, 686, 688, 690, 694, 702, 534, 663, 703, 705, 90, 706, 710, 728, 724, 744, 144, 729, 740, 748, 752, 756, 760, 158, 762, 834, 764, 768, 772, 776, 780, 788, 792, 795, 796, 798, -2147483648, 800, 804, 784, 826, 850, 840, 858, 860, 548, 336, 862, 704, 876, 732, 887, 894, 716, -2147483648]\n"
     ]
    }
   ],
   "source": [
    "print(list(countries))"
   ]
  },
  {
   "cell_type": "code",
   "execution_count": 61,
   "metadata": {},
   "outputs": [],
   "source": [
    "MaxFlightPrice = 100000\n",
    "MaxHotelPrice = 100000\n",
    "MaxHotelPrice = 100000\n",
    "MaxRandDays = 5\n",
    "MaxHotels = 100\n",
    "MaxFlights = 1000000\n",
    "\n",
    "ZeroDate = pd.to_datetime('27/8/2020')\n",
    "\n",
    "class Environment:\n",
    "    def gen_dataset(self):\n",
    "        k = dict()\n",
    "        hotels = ['Baba', 'Bubu', 'Kata']\n",
    "        hotel_ind = 0\n",
    "        start_date = ZeroDate\n",
    "\n",
    "        print('Generating country_to_hotels dataset...')\n",
    "        \n",
    "        for i in tqdm_notebook(countries):\n",
    "            country_to_hotels = {'name' : [], 'day_price': [], 'available_from' : [], 'available_to' : [], 'x':[], 'y':[]}\n",
    "            currx, curry = 0, 0\n",
    "            if i == 40:\n",
    "                currx, curry = 52.35, 13.4\n",
    "            elif i == 616:\n",
    "                currx, curry = 52.24, 21.0\n",
    "            elif i == 36:\n",
    "                currx, curry = 50.84, 4.38 \n",
    "            elif i == 276:\n",
    "                currx, curry = 52.5, 13.4\n",
    "            elif i == 56:\n",
    "                currx, curry = 50.84, 4.38 \n",
    "            for _ in range(MaxHotels):\n",
    "                country_to_hotels['name'].append('{}_{}'.format(hotels[hotel_ind % 3], hotel_ind))\n",
    "                country_to_hotels['day_price'].append(np.random.randint(MaxHotelPrice))\n",
    "                delta1 = np.random.randint(MaxRandDays)\n",
    "                delta2 = np.random.randint(MaxRandDays//2)\n",
    "                country_to_hotels['available_from'].append(start_date + pd.DateOffset(days = delta1))\n",
    "                country_to_hotels['available_to'].append(start_date + pd.DateOffset(days = delta1 + delta2))\n",
    "                country_to_hotels['x'].append(currx + 2 * np.random.random_sample() - 1)\n",
    "                country_to_hotels['y'].append(curry + 2 * np.random.random_sample() - 1)\n",
    "                hotel_ind+=1\n",
    "\n",
    "            k[i] = pd.DataFrame(data=country_to_hotels)\n",
    "            \n",
    "        self.country_to_hotels_ = k\n",
    "        \n",
    "    def __init__(self, country_to_hotels = None):\n",
    "        print('Generating time_to_planes dataset...')\n",
    "        \n",
    "        d = {'time' : [], 'price': [], 'from': [], 'to' : []}\n",
    "        start_date = ZeroDate\n",
    "        \n",
    "        for i in range(MaxFlights):\n",
    "            if i % (MaxFlights // (MaxRandDays * 2)) == 0: \n",
    "                start_date += pd.DateOffset(days = 1)\n",
    "                \n",
    "            d['time'].append(start_date)\n",
    "            d['price'].append(np.random.randint(MaxFlightPrice))\n",
    "            d['from'].append(countries[np.random.randint(countries.size)])\n",
    "            d['to'].append(countries[np.random.randint(countries.size)])\n",
    "\n",
    "        self.planes_timetable_ = pd.DataFrame(data=d).set_index('time')\n",
    "    \n",
    "        if (country_to_hotels == None):\n",
    "            self.gen_dataset()\n",
    "        else:\n",
    "            self.country_to_hotels_ = country_to_hotels\n",
    "        \n",
    "        \n",
    "        print('Done')\n",
    "        \n",
    "    def get_tickets(self, time1, time2):\n",
    "        return self.planes_timetable_[time1 : time2]\n",
    "    \n",
    "    def get_hotels(self, country_id, time1, time2): #datetime!!!\n",
    "        return self.country_to_hotels_[country_id][\n",
    "            (time1 > self.country_to_hotels_[country_id]['available_from']) &\n",
    "            (time2 < self.country_to_hotels_[country_id]['available_to'])] "
   ]
  },
  {
   "cell_type": "code",
   "execution_count": 62,
   "metadata": {},
   "outputs": [
    {
     "name": "stdout",
     "output_type": "stream",
     "text": [
      "Generating time_to_planes dataset...\n",
      "Generating country_to_hotels dataset...\n"
     ]
    },
    {
     "data": {
      "application/vnd.jupyter.widget-view+json": {
       "model_id": "9549ef5262054839b34e17a8154197d1",
       "version_major": 2,
       "version_minor": 0
      },
      "text/plain": [
       "HBox(children=(IntProgress(value=0, max=247), HTML(value='')))"
      ]
     },
     "metadata": {},
     "output_type": "display_data"
    },
    {
     "name": "stdout",
     "output_type": "stream",
     "text": [
      "\n",
      "Done\n"
     ]
    }
   ],
   "source": [
    "env = Environment()"
   ]
  },
  {
   "cell_type": "code",
   "execution_count": 63,
   "metadata": {},
   "outputs": [
    {
     "data": {
      "text/html": [
       "<div>\n",
       "<style scoped>\n",
       "    .dataframe tbody tr th:only-of-type {\n",
       "        vertical-align: middle;\n",
       "    }\n",
       "\n",
       "    .dataframe tbody tr th {\n",
       "        vertical-align: top;\n",
       "    }\n",
       "\n",
       "    .dataframe thead th {\n",
       "        text-align: right;\n",
       "    }\n",
       "</style>\n",
       "<table border=\"1\" class=\"dataframe\">\n",
       "  <thead>\n",
       "    <tr style=\"text-align: right;\">\n",
       "      <th></th>\n",
       "      <th>name</th>\n",
       "      <th>day_price</th>\n",
       "      <th>available_from</th>\n",
       "      <th>available_to</th>\n",
       "      <th>x</th>\n",
       "      <th>y</th>\n",
       "    </tr>\n",
       "  </thead>\n",
       "  <tbody>\n",
       "  </tbody>\n",
       "</table>\n",
       "</div>"
      ],
      "text/plain": [
       "Empty DataFrame\n",
       "Columns: [name, day_price, available_from, available_to, x, y]\n",
       "Index: []"
      ]
     },
     "execution_count": 63,
     "metadata": {},
     "output_type": "execute_result"
    }
   ],
   "source": [
    "time1 = pd.to_datetime('28/8/2020')\n",
    "time2 = pd.to_datetime('29/8/2020')\n",
    "\n",
    "env.get_hotels(40, time1, time2)"
   ]
  },
  {
   "cell_type": "code",
   "execution_count": 67,
   "metadata": {
    "scrolled": true
   },
   "outputs": [],
   "source": [
    "tickets = env.get_tickets(time1, time1)"
   ]
  },
  {
   "cell_type": "code",
   "execution_count": 68,
   "metadata": {},
   "outputs": [
    {
     "data": {
      "text/plain": [
       "<bound method DataFrame.info of             price  from   to\n",
       "time                        \n",
       "2020-08-28  40241   887  442\n",
       "2020-08-28  44811   578  304\n",
       "2020-08-28  24680   882   31\n",
       "2020-08-28  91754   882  531\n",
       "2020-08-28  63955   180  795\n",
       "...           ...   ...  ...\n",
       "2020-08-28  71388   158   40\n",
       "2020-08-28  33504   214  348\n",
       "2020-08-28  61763    50  434\n",
       "2020-08-28  13886   784  604\n",
       "2020-08-28  41757    36  418\n",
       "\n",
       "[100000 rows x 3 columns]>"
      ]
     },
     "execution_count": 68,
     "metadata": {},
     "output_type": "execute_result"
    }
   ],
   "source": [
    "tickets.info"
   ]
  },
  {
   "cell_type": "code",
   "execution_count": 69,
   "metadata": {},
   "outputs": [
    {
     "data": {
      "text/html": [
       "<div>\n",
       "<style scoped>\n",
       "    .dataframe tbody tr th:only-of-type {\n",
       "        vertical-align: middle;\n",
       "    }\n",
       "\n",
       "    .dataframe tbody tr th {\n",
       "        vertical-align: top;\n",
       "    }\n",
       "\n",
       "    .dataframe thead th {\n",
       "        text-align: right;\n",
       "    }\n",
       "</style>\n",
       "<table border=\"1\" class=\"dataframe\">\n",
       "  <thead>\n",
       "    <tr style=\"text-align: right;\">\n",
       "      <th></th>\n",
       "      <th>price</th>\n",
       "      <th>from</th>\n",
       "      <th>to</th>\n",
       "    </tr>\n",
       "    <tr>\n",
       "      <th>time</th>\n",
       "      <th></th>\n",
       "      <th></th>\n",
       "      <th></th>\n",
       "    </tr>\n",
       "  </thead>\n",
       "  <tbody>\n",
       "    <tr>\n",
       "      <th>2020-08-28</th>\n",
       "      <td>69746</td>\n",
       "      <td>643</td>\n",
       "      <td>40</td>\n",
       "    </tr>\n",
       "    <tr>\n",
       "      <th>2020-08-28</th>\n",
       "      <td>54041</td>\n",
       "      <td>643</td>\n",
       "      <td>40</td>\n",
       "    </tr>\n",
       "    <tr>\n",
       "      <th>2020-08-28</th>\n",
       "      <td>52256</td>\n",
       "      <td>643</td>\n",
       "      <td>40</td>\n",
       "    </tr>\n",
       "    <tr>\n",
       "      <th>2020-08-28</th>\n",
       "      <td>99134</td>\n",
       "      <td>643</td>\n",
       "      <td>40</td>\n",
       "    </tr>\n",
       "  </tbody>\n",
       "</table>\n",
       "</div>"
      ],
      "text/plain": [
       "            price  from  to\n",
       "time                       \n",
       "2020-08-28  69746   643  40\n",
       "2020-08-28  54041   643  40\n",
       "2020-08-28  52256   643  40\n",
       "2020-08-28  99134   643  40"
      ]
     },
     "execution_count": 69,
     "metadata": {},
     "output_type": "execute_result"
    }
   ],
   "source": [
    "tickets[(tickets['from'] == 643) & (tickets['to'] == 40)]"
   ]
  },
  {
   "cell_type": "code",
   "execution_count": null,
   "metadata": {},
   "outputs": [],
   "source": []
  }
 ],
 "metadata": {
  "kernelspec": {
   "display_name": "Python 3",
   "language": "python",
   "name": "python3"
  },
  "language_info": {
   "codemirror_mode": {
    "name": "ipython",
    "version": 3
   },
   "file_extension": ".py",
   "mimetype": "text/x-python",
   "name": "python",
   "nbconvert_exporter": "python",
   "pygments_lexer": "ipython3",
   "version": "3.6.9"
  }
 },
 "nbformat": 4,
 "nbformat_minor": 4
}
