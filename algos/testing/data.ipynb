{
 "cells": [
  {
   "cell_type": "code",
   "execution_count": 20,
   "metadata": {},
   "outputs": [],
   "source": [
    "import pandas as pd\n",
    "import math"
   ]
  },
  {
   "cell_type": "code",
   "execution_count": 40,
   "metadata": {},
   "outputs": [],
   "source": [
    "class node:\n",
    "    \n",
    "    def __init__(self, arrive, depart, cash, counry_id):\n",
    "        self.arrivial_time = pd.to_datetime(arrive)\n",
    "        self.departure_time = pd.to_datetime(depart)\n",
    "        self.cash = cash\n",
    "        self.country_id = country_id\n",
    "\n",
    "\n",
    "def radian(x):\n",
    "    return (x * math.pi) / 180\n",
    "\n",
    "def distance(f1, f2, q1, q2):\n",
    "    f1 = radian(f1)\n",
    "    f2 = radian(f2)\n",
    "    q1 = radian(q1)\n",
    "    q2 = radian(q2)\n",
    "    temp1 = ((math.sin(f2 - f1) / 2)**2) + math.cos(f1) * math.cos(f2) * ((math.sin(q2 - q1) / 2)**2)\n",
    "    return 2 * 6371 * math.asin(temp1**0.5)"
   ]
  },
  {
   "cell_type": "code",
   "execution_count": 41,
   "metadata": {},
   "outputs": [],
   "source": [
    "Poland = pd.DataFrame(columns = ['name', \"x\", \"y\", \"cost\", \"time\"])\n",
    "\n",
    "Poland.loc[0] = [\"Cannabis Store\", 52.233305, 21.0166643, -1, \"0:30:0\"]\n",
    "Poland.loc[1] = [\"Gingerbread Shop\", 52.2333556, 20.9838336, -1, \"0:30:0\"]\n",
    "Poland.loc[2] = [\"Old Town\", 52.2500337, 21.0092832, 0, \"1:0:0\"]\n",
    "Poland.loc[3] = [\"Krakowskie Przedmiescie\", 52.2425996, 21.0128519, 0, \"1:0:0\"]\n",
    "Poland.loc[4] = [\"Rynek Starego Miasta\", 52.2497446, 21.010053, -1, \"1:10:0\"]\n",
    "Poland.loc[5] = [\"Pole Mokotowskie\", 52.2099094, 20.9940085, 1000, \"0:45:0\"]\n",
    "Poland.loc[6] = [\"Blue City Shopping Mall\", 52.2125227, 20.953501, -1, \"2:00:0\"]\n",
    "Poland.loc[7] = [\"Hala Koszyki\", 52.2225766,21.0083865, 5400, \"1:40:0\"]\n",
    "Poland.loc[8] = [\"Museum of King Jan III's Palace at Wilanow\", 52.1651782, 21.0883197, 2500, \"1:30:0\"]\n",
    "Poland.loc[9] = [\"Katyn Museum\", 52.2608038, 21.0009181, 1500, \"1:10:0\"]\n",
    "\n",
    "Austria = pd.DataFrame(columns = ['name', \"x\", \"y\", \"cost\", \"time\"])\n",
    "\n",
    "Austria.loc[0] = [\"Christmas Market on Rathausplatz\", 48.2105323, 16.3572131, -1, \"1:20:0\"]\n",
    "Austria.loc[1] = [\"Akademie der Wissenschaften\", 48.2094365, 16.3661027, 2500, \"0:20:0\"]\n",
    "Austria.loc[2] = [\"Leschanz Wiener Schokolade Konig\", 48.2093122, 16.3685058, -1, \"0:40:0\"]\n",
    "Austria.loc[3] = [\"istoric Center of Vienna\", 48.208044, 16.3643915, -1, \"1:0:0\"]\n",
    "Austria.loc[4] = [\"Donau Zentrum Donau Zentrum\", 48.2267167, 16.3906053, -1, \"2:30:0\"]\n",
    "Austria.loc[5] = [\"Manner Shop\", 48.2268008, 16.3901627, -1, \"0:45:0\"]\n",
    "Austria.loc[6] = [\"Raimundhof\", 48.1995422, 16.353584, -1, \"2:00:0\"]\n",
    "Austria.loc[7] = [\"Billa Corso im Herrnhuterhaus\", 48.2069928, 16.3686471, 1700, \"0:25:0\"]\n",
    "Austria.loc[8] = [\"Austrian Museum of Applied Arts\", 48.196987, 16.3533885, 2500, \"2:30:0\"]\n",
    "Austria.loc[9] = [\"Prater\", 48.2167305, 16.3958399, -1, \"3:00:0\"]\n",
    "\n",
    "Netherlands = pd.DataFrame(columns = ['name', \"x\", \"y\", \"cost\", \"time\"]);\n",
    "\n",
    "Netherlands.loc[0] = [\"Rijksmuseum\", 52.3593241, 4.8830637 , 2500, \"1:30:0\"]\n",
    "Netherlands.loc[1] = [\"Van Gogh Museum\", 52.3584192, 4.8788869 , 2000 , \"1:40:0\"]\n",
    "Netherlands.loc[2] = [\"Albert Cuymarkt\", 52.3559706, 4.8931984 , -1, \"2:00:00\"]\n",
    "Netherlands.loc[3] = [\"Henri Willig Cheese Farm Store - Amsterdams Kaashuis\", 52.3769558, 4.8946208 , -1, \"0:45:0\"]\n",
    "Netherlands.loc[4] = [\"Amsterdam Withlocals\", 52.3545534, 4.758529 , 0, \"2:20:00\"]\n",
    "Netherlands.loc[5] = [\"De Bierkoning\", 52.3719561, 4.9019765 , -1, \"0:20:0\"]\n",
    "Netherlands.loc[6] = [\"Dappermarkt\", 52.3615988, 4.9261913 , -1, \"1:10:00\"]\n",
    "Netherlands.loc[7] = [\"Old Amsterdam Cheese Store\", 52.3616269, 4.9108704 , -1, \"0:45:00\"]\n",
    "Netherlands.loc[8] = [\"Museum of the Canals\", 52.3616768, 4.9108704 , 1300, \"1:10:00\"]\n",
    "Netherlands.loc[9] = [\"Amsterdam Pipe Museum\", 52.3641231, 4.883097 , 1700, \"0:35:00\"]\n"
   ]
  },
  {
   "cell_type": "code",
   "execution_count": 42,
   "metadata": {},
   "outputs": [],
   "source": [
    "Poland.to_json('../Poland')\n",
    "Netherlands.to_json('../Netherlands')\n",
    "Austria.to_json('../Austria')"
   ]
  },
  {
   "cell_type": "code",
   "execution_count": 43,
   "metadata": {},
   "outputs": [
    {
     "name": "stdout",
     "output_type": "stream",
     "text": [
      "633.7451937275222\n"
     ]
    }
   ],
   "source": [
    "print(distance(55.7539, 59.9398, 37.6208, 30.3146))"
   ]
  },
  {
   "cell_type": "code",
   "execution_count": null,
   "metadata": {},
   "outputs": [],
   "source": []
  }
 ],
 "metadata": {
  "kernelspec": {
   "display_name": "Python 3",
   "language": "python",
   "name": "python3"
  },
  "language_info": {
   "codemirror_mode": {
    "name": "ipython",
    "version": 3
   },
   "file_extension": ".py",
   "mimetype": "text/x-python",
   "name": "python",
   "nbconvert_exporter": "python",
   "pygments_lexer": "ipython3",
   "version": "3.7.3"
  }
 },
 "nbformat": 4,
 "nbformat_minor": 2
}
