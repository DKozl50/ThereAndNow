{
 "cells": [
  {
   "cell_type": "code",
   "execution_count": 2,
   "metadata": {},
   "outputs": [],
   "source": [
    "import pandas as pd\n"
   ]
  },
  {
   "cell_type": "code",
   "execution_count": 9,
   "metadata": {},
   "outputs": [],
   "source": [
    "TIME_SPENT_AT_AIRPORT = 0"
   ]
  },
  {
   "cell_type": "code",
   "execution_count": 4,
   "metadata": {},
   "outputs": [],
   "source": [
    "class node:\n",
    "    \n",
    "    def __init__(self, arrive, depart, cash, country):\n",
    "        self.arrival_time = pd.to_datetime(arrive)\n",
    "        self.departure_time = pd.to_datetime(depart)\n",
    "        self.cash = cash\n",
    "        self.country_id = country\n",
    "        "
   ]
  },
  {
   "cell_type": "code",
   "execution_count": 8,
   "metadata": {},
   "outputs": [
    {
     "data": {
      "text/plain": [
       "Timestamp('2020-10-30 10:10:00')"
      ]
     },
     "execution_count": 8,
     "metadata": {},
     "output_type": "execute_result"
    }
   ],
   "source": [
    "node(\"10-11-2222\", \"30-10-2020 10:10\", 10, 11).departure_time"
   ]
  },
  {
   "cell_type": "markdown",
   "metadata": {},
   "source": [
    "arrival - airport - taxi - hotel - taxi - excursion - taxi - excursion - eat - taxi - excursion - eat - taxi - hotel - taxi - airport - departure"
   ]
  },
  {
   "cell_type": "code",
   "execution_count": 46,
   "metadata": {},
   "outputs": [],
   "source": [
    "EURO_TO_RUBLE = 70"
   ]
  },
  {
   "cell_type": "code",
   "execution_count": 15,
   "metadata": {},
   "outputs": [],
   "source": [
    "Berlin = pd.DataFrame(columns = ['name', 'coordx', 'coordy', 'cost', 'time'])"
   ]
  },
  {
   "cell_type": "code",
   "execution_count": 47,
   "metadata": {},
   "outputs": [],
   "source": [
    "Berlin.loc[0] = ['Brandenburg Gate', 52.5162778, 13.3755154, 0, '0:15:0']\n",
    "Berlin.loc[1] = ['Reichstag', 52.5186202, 13.3761872, 0, '1:0:0']\n",
    "Berlin.loc[2] = ['East Side Gallery', 52.5054076, 13.43636, 0, '0:15:0']\n",
    "Berlin.loc[3] = ['Museum Island', 52.5168903,13.3977636, 20 * EURO_TO_RUBLE, '3:0:0']\n",
    "Berlin.loc[4] = ['Unter den Linden', 52.5168477,13.3870119, 0, '0:20:0']\n",
    "Berlin.loc[5] = ['Kaiser Wilhelm Memorial Church', 52.5048212,13.332888, 10 * EURO_TO_RUBLE, '1:0:0']\n",
    "Berlin.loc[6] = ['Postdam Platz', 52.509652,13.3737501, 0, '0:30:0']\n",
    "Berlin.loc[7] = ['New Museum', 52.5201381,13.3954522, 20 * EURO_TO_RUBLE, '2:0:0']\n",
    "Berlin.loc[8] = ['Checkpoint Charlie', 52.5075914,13.3881815, 0, '0:15:0']\n",
    "Berlin.loc[9] = ['Berlin Flea Market', 52.5135913,13.3311879, -1, '0:45:0']"
   ]
  },
  {
   "cell_type": "code",
   "execution_count": 48,
   "metadata": {},
   "outputs": [],
   "source": [
    "Berlin.time = pd.to_timedelta(Berlin.time)"
   ]
  },
  {
   "cell_type": "code",
   "execution_count": 52,
   "metadata": {},
   "outputs": [],
   "source": [
    "Germany = Berlin"
   ]
  },
  {
   "cell_type": "code",
   "execution_count": 53,
   "metadata": {},
   "outputs": [],
   "source": [
    "Belgium = pd.DataFrame(columns = ['name', 'coordx', 'coordy', 'cost', 'time'])"
   ]
  },
  {
   "cell_type": "code",
   "execution_count": 55,
   "metadata": {},
   "outputs": [],
   "source": [
    "Belgium.loc[0] = ['Grand Palace', 50.8467316,4.3502251, 0, '0:45:0']\n",
    "Belgium.loc[1] = ['Atomium', 50.8949444,4.339353, 0, '0:15:0']\n",
    "Belgium.loc[2] = ['Square Ambiorix', 50.8468312,4.3811363, 0, '1:30:0']\n",
    "Belgium.loc[3] = ['St Michael and St Gudula Cathedral', 50.8478366,4.3579135, 20 * EURO_TO_RUBLE, '1:30:0']\n",
    "Belgium.loc[4] = ['Mont des Arts', 50.844378,4.3537282, 0, '0:45:0']\n",
    "Belgium.loc[5] = ['Saint Hubert Gallery', 45.7674464,4.8563057, -1, '1:30:0']\n",
    "Belgium.loc[6] = ['Musical Instruments Museum', 50.8430976,4.3569343, 20 * EURO_TO_RUBLE, '1:0:0']\n",
    "Belgium.loc[7] = ['Mini-Europe', 50.8940884,4.3367429, 40 * EURO_TO_RUBLE, '1:30:0']\n",
    "Belgium.loc[8] = ['Notre-Dame du Sablon', 50.8401325,4.3536889, 10 * EURO_TO_RUBLE, '0:30:0']\n",
    "Belgium.loc[9] = ['Cinquantenaire', 50.8413964,4.3882893, 0, '1:0:0']"
   ]
  },
  {
   "cell_type": "code",
   "execution_count": 57,
   "metadata": {},
   "outputs": [],
   "source": [
    "Belgium.to_json('../Belgium')"
   ]
  },
  {
   "cell_type": "code",
   "execution_count": 58,
   "metadata": {},
   "outputs": [],
   "source": [
    "Germany.to_json('../Germany')"
   ]
  },
  {
   "cell_type": "code",
   "execution_count": null,
   "metadata": {},
   "outputs": [],
   "source": []
  }
 ],
 "metadata": {
  "kernelspec": {
   "display_name": "Python 3",
   "language": "python",
   "name": "python3"
  },
  "language_info": {
   "codemirror_mode": {
    "name": "ipython",
    "version": 3
   },
   "file_extension": ".py",
   "mimetype": "text/x-python",
   "name": "python",
   "nbconvert_exporter": "python",
   "pygments_lexer": "ipython3",
   "version": "3.6.9"
  }
 },
 "nbformat": 4,
 "nbformat_minor": 4
}
